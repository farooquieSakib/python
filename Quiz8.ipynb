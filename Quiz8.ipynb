{
 "cells": [
  {
   "cell_type": "markdown",
   "id": "87b2b1e4",
   "metadata": {},
   "source": [
    "# Quiz 8\n",
    "\n",
    "1. Is the Python Standard Library included with PyInputPlus?\n",
    "2. Why is PyInputPlus commonly imported with import pyinputplus as pypi?\n",
    "3. How do you distinguish between inputInt() and inputFloat()?\n",
    "4. Using PyInputPlus, how do you ensure that the user enters a whole number between 0 and 99?\n",
    "5. What is transferred to the keyword arguments allowRegexes and blockRegexes?\n",
    "6. If a blank input is entered three times, what does inputStr(limit=3) do?\n",
    "7. If blank input is entered three times, what does inputStr(limit=3, default=&#39;hello&#39;) do?"
   ]
  },
  {
   "cell_type": "markdown",
   "id": "d3e24435",
   "metadata": {},
   "source": [
    "Is the Python Standard Library included with PyInputPlus?\n",
    "\n",
    "Ans: No, Python Standard Library does not include PyInputPlus"
   ]
  },
  {
   "cell_type": "markdown",
   "id": "0ef72aca",
   "metadata": {},
   "source": [
    "Why is PyInputPlus commonly imported with import pyinputplus as pypi?\n",
    "\n",
    "Ans: The reason we import pyinputplus as pypi so that we can enter shorter name when calling the module's functions."
   ]
  },
  {
   "cell_type": "markdown",
   "id": "6532eb86",
   "metadata": {},
   "source": [
    "How do you distinguish between inputInt() and inputFloat()?\n",
    "\n",
    "Ans: inputInt() function will take integer as input if any value other than interger is passed then the function retries until a valid input is given. It returns an int.\n",
    "\n",
    "inputFloat()function will take Floating point as input and if any value other then floating point is passed the function retires until a valid iput is given. It returns a Floating point"
   ]
  },
  {
   "cell_type": "markdown",
   "id": "e557c7e3",
   "metadata": {},
   "source": [
    "Using PyInputPlus, how do you ensure that the user enters a whole number between 0 and 99?\n",
    "\n",
    "Ans: In the above question we can make use of PyInputPlus inputInt() function and use the min and max argument. Please see below example\n",
    "\n",
    "import pyinputplus as pyip\n",
    "\n",
    "pyip.inputInt(\"Enter a number between 0 and 99: \",min = 0,max = 99)\n"
   ]
  },
  {
   "cell_type": "markdown",
   "id": "64551c8f",
   "metadata": {},
   "source": [
    "What is transferred to the keyword arguments allowRegexes and blockRegexes?\n",
    "\n",
    "Ans : The allowRegexes and blockRegexes will keyword arguments take a list of regular expression string to determine what the PyInputPlus funtion will accept or reject the valid input."
   ]
  },
  {
   "cell_type": "markdown",
   "id": "c775637e",
   "metadata": {},
   "source": [
    "If a blank input is entered three times, what does inputStr(limit=3) do?\n",
    "\n",
    "Ans: If the blank inpur is entered three times then inputStr(limit=3) will raise RetryLimitException or TimeoutException."
   ]
  },
  {
   "cell_type": "markdown",
   "id": "b7aefac5",
   "metadata": {},
   "source": [
    "If blank input is entered three times, what does inputStr(limit=3, default='hello') do?\n",
    "\n",
    "Ans : If blank input is entered thrree times the inputStr(limit=3, default='hello') will by default raise a default value instead of raising an Exception. In this Ex: it will print hello. "
   ]
  }
 ],
 "metadata": {
  "kernelspec": {
   "display_name": "Python 3 (ipykernel)",
   "language": "python",
   "name": "python3"
  },
  "language_info": {
   "codemirror_mode": {
    "name": "ipython",
    "version": 3
   },
   "file_extension": ".py",
   "mimetype": "text/x-python",
   "name": "python",
   "nbconvert_exporter": "python",
   "pygments_lexer": "ipython3",
   "version": "3.9.7"
  }
 },
 "nbformat": 4,
 "nbformat_minor": 5
}
