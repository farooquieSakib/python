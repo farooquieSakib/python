{
 "cells": [
  {
   "cell_type": "markdown",
   "id": "0478330b",
   "metadata": {},
   "source": [
    "# Quiz 7\n",
    "\n",
    "1. What is the name of the feature responsible for generating Regex objects?\n",
    "2. Why do raw strings often appear in Regex objects?\n",
    "3. What is the return value of the search() method?\n",
    "4. From a Match item, how do you get the actual strings that match the pattern?\n",
    "5. In the regex which created from the r&#39;(\\d\\d\\d)-(\\d\\d\\d-\\d\\d\\d\\d)&#39;, what does group zero cover?\n",
    "Group 2? Group 1?\n",
    "6. In standard expression syntax, parentheses and intervals have distinct meanings. How can you tell\n",
    "a regex that you want it to fit real parentheses and periods?\n",
    "7. The findall() method returns a string list or a list of string tuples. What causes it to return one of\n",
    "the two options?\n",
    "8. In standard expressions, what does the | character mean?\n",
    "9. In regular expressions, what does the character stand for?\n",
    "10.In regular expressions, what is the difference between the + and * characters?\n",
    "11. What is the difference between {4} and {4,5} in regular expression?\n",
    "12. What do you mean by the \\d, \\w, and \\s shorthand character classes signify in regular\n",
    "expressions?\n",
    "13. What do means by \\D, \\W, and \\S shorthand character classes signify in regular expressions?\n",
    "14. What is the difference between .*? and .*?\n",
    "15. What is the syntax for matching both numbers and lowercase letters with a character class?\n",
    "16. What is the procedure for making a normal expression in regax case insensitive?\n",
    "17. What does the . character normally match? What does it match if re.DOTALL is passed as 2nd\n",
    "argument in re.compile()?\n",
    "18. If numReg = re.compile(r&#39;\\d+&#39;), what will numRegex.sub(&#39;X&#39;, &#39;11 drummers, 10 pipers, five rings, 4\n",
    "hen&#39;) return?\n",
    "19. What does passing re.VERBOSE as the 2nd argument to re.compile() allow to do?\n",
    "20. How would you write a regex that match a number with comma for every three digits? It must\n",
    "match the given following:\n",
    "&#39;42&#39;\n",
    "&#39;1,234&#39;\n",
    "&#39;6,368,745&#39; \n",
    "but not the following:\n",
    "&#39;12,34,567&#39; (which has only two digits between the commas)\n",
    "&#39;1234&#39; (which lacks commas)\n",
    "\n",
    "21. How would you write a regex that matches the full name of someone whose last name is\n",
    "Watanabe? You can assume that the first name that comes before it will always be one word that\n",
    "begins with a capital letter. The regex must match the following:\n",
    "&#39;Haruto Watanabe&#39;\n",
    "&#39;Alice Watanabe&#39;\n",
    "&#39;RoboCop Watanabe&#39; but not the following:\n",
    "&#39;haruto Watanabe&#39; (where the first name is not capitalized)\n",
    "&#39;Mr. Watanabe&#39; (where the preceding word has a nonletter character)\n",
    "&#39;Watanabe&#39; (which has no first name)\n",
    "&#39;Haruto watanabe&#39; (where Watanabe is not capitalized)\n",
    "\n",
    "22. How would you write a regex that matches a sentence where the first word is either Alice, Bob,\n",
    "or Carol; the second word is either eats, pets, or throws; the third word is apples, cats, or baseballs;\n",
    "and the sentence ends with a period? This regex should be case-insensitive. It must match the\n",
    "following:\n",
    "&#39;Alice eats apples.&#39;\n",
    "&#39;Bob pets cats.&#39;\n",
    "&#39;Carol throws baseballs.&#39;\n",
    "&#39;Alice throws Apples.&#39;\n",
    "&#39;BOB EATS CATS.&#39;\n",
    "but not the following:\n",
    "&#39;RoboCop eats apples.&#39;\n",
    "&#39;ALICE THROWS FOOTBALLS.&#39;\n",
    "&#39;Carol eats 7 cats.&#39;"
   ]
  },
  {
   "cell_type": "markdown",
   "id": "56234830",
   "metadata": {},
   "source": [
    "What is the name of the feature responsible for generating Regex objects?\n",
    "\n",
    "Ans: The function re.compile() function returns Regex objects."
   ]
  },
  {
   "cell_type": "markdown",
   "id": "6baa9c6c",
   "metadata": {},
   "source": [
    "Why do raw strings often appear in Regex objects?\n",
    "\n",
    "Ans: Raw strings are used so that backslashes do not have to be escaped"
   ]
  },
  {
   "cell_type": "markdown",
   "id": "ab7e0641",
   "metadata": {},
   "source": [
    "What is the return value of the search() method?\n",
    "\n",
    "Ans: search() method returns Match objects."
   ]
  },
  {
   "cell_type": "markdown",
   "id": "de8efd34",
   "metadata": {},
   "source": [
    "From a Match item, how do you get the actual strings that match the pattern?\n",
    "\n",
    "Ans The actual strings that match the pattern are done by group() method"
   ]
  },
  {
   "cell_type": "markdown",
   "id": "6588d8b4",
   "metadata": {},
   "source": [
    "In the regex which created from the r'(\\d\\d\\d)-(\\d\\d\\d-\\d\\d\\d\\d)', what does group zero cover? Group 2? Group 1?\n",
    "\n",
    "Ans Group 0 is the entire match, Group 2 covers the second set of parentheses and Group 1 covers the first set of parentheses.\n"
   ]
  },
  {
   "cell_type": "markdown",
   "id": "e997b098",
   "metadata": {},
   "source": [
    "In standard expression syntax, parentheses and intervals have distinct meanings. How can you tell a regex that you want it to fit real parentheses and periods?\n",
    "\n",
    "Ans Periods and parenthese can be escaped with a backslash: \\ , \\( and \\)\n"
   ]
  },
  {
   "cell_type": "markdown",
   "id": "2f85d5b1",
   "metadata": {},
   "source": [
    "The findall() method returns a string list or a list of string tuples. What causes it to return one of the two options?\n",
    "\n",
    "Ans: If the regex has no groups, a list of strings is returned and if the regex has groups, a tuple of strings is returned.\n",
    "\n"
   ]
  },
  {
   "cell_type": "markdown",
   "id": "714b7b2e",
   "metadata": {},
   "source": [
    "In standard expressions, what does the | character mean?\n",
    "\n",
    "Ans: The | character signifies matching the \"either, or\" between two groups."
   ]
  },
  {
   "cell_type": "markdown",
   "id": "4cc871c4",
   "metadata": {},
   "source": [
    "In regular expressions, what does the character stand for?\n",
    "\n",
    "Ans: The ? character can either mean \"match a zero or one of the preceeding group\" or can be used to signify nongreedy matching."
   ]
  },
  {
   "cell_type": "markdown",
   "id": "22eab5ec",
   "metadata": {},
   "source": [
    "In regular expressions, what is the difference between the + and * characters?\n",
    "\n",
    "Ans: The + matches one or more expressions and * matches zero or more expressions."
   ]
  },
  {
   "cell_type": "markdown",
   "id": "3312b26e",
   "metadata": {},
   "source": [
    "What is the difference between {4} and {4,5} in regular expression?\n",
    "\n",
    "Ans: The difference between {4} and {4,5} in regular expression is {4} matches exactly four groups of the preceeding group and {4,5} matches between four and five instances. "
   ]
  },
  {
   "cell_type": "markdown",
   "id": "61b1385a",
   "metadata": {},
   "source": [
    "What do you mean by the \\d, \\w, and \\s shorthand character classes signify in regular expressions?\n",
    "\n",
    "Ans: The shorthand characters classes means as follows \\d means digit characters , \\w means word characters and \\s means space characters."
   ]
  },
  {
   "cell_type": "markdown",
   "id": "b272a8d4",
   "metadata": {},
   "source": [
    "What do means by \\D, \\W, and \\S shorthand character classes signify in regular expressions?\n",
    "\n",
    "And: The \\D, \\W, and \\S shorthand character matches a single character that is not a word, digit or a space character."
   ]
  },
  {
   "cell_type": "markdown",
   "id": "b1e07d01",
   "metadata": {},
   "source": [
    "What is the difference between .*? and .*\n",
    "\n",
    "Ans: The are .* is used to perform a greedy match and .*? is used to perform non-greedy match."
   ]
  },
  {
   "cell_type": "markdown",
   "id": "ca0c0606",
   "metadata": {},
   "source": [
    "What is the syntax for matching both numbers and lowercase letters with a character class?\n",
    "\n",
    "Ans:  The syntax for matching both number and lowecase letters with a character class is wither [0-9a-z] or [a-z0-9]"
   ]
  },
  {
   "cell_type": "markdown",
   "id": "80588a2f",
   "metadata": {},
   "source": [
    "What is the procedure for making a normal expression in regax case insensitive?\n",
    "\n",
    "Ans: To make the normal expression in a regax case insensitive by passing re.I or re.IGNORECASE as the second argument to re.compile() will make the matching case insensitive."
   ]
  },
  {
   "cell_type": "markdown",
   "id": "bf37e0ed",
   "metadata": {},
   "source": [
    "What does the . character normally match? What does it match if re.DOTALL is passed as 2nd argument in re.compile()?\n",
    "\n",
    "Ans: The . character will normally matches any character except the newline character. If re.DOTALL is passed as the second argument to re.compile(), then the dot will also match newline characters."
   ]
  },
  {
   "cell_type": "markdown",
   "id": "6a8a489a",
   "metadata": {},
   "source": [
    "If numReg = re.compile(r'\\d+'), what will numRegex.sub('X', '11 drummers, 10 pipers, five rings, 4 hen') return?\n",
    "\n",
    "Ans: It will return \"X drummers, X pipers, five rings, X hen\""
   ]
  },
  {
   "cell_type": "markdown",
   "id": "65b4f190",
   "metadata": {},
   "source": [
    "What does passing re.VERBOSE as the 2nd argument to re.compile() allow to do?\n",
    "\n",
    "Ans: The re.VERBOSE argument allows you to add whitespace and comments to the string passed to re.compile()"
   ]
  },
  {
   "cell_type": "markdown",
   "id": "7c0c9dd9",
   "metadata": {},
   "source": [
    "How would you write a regex that match a number with comma for every three digits? It must match the given following: \n",
    "'42' \n",
    "'1,234' \n",
    "'6,368,745' \n",
    "but not the following: '12,34,567' (which has only two digits between the commas) \n",
    "'1234' (which lacks commas)\n",
    "\n",
    "Ans: The regex that matches a number with comma for every three digit are as follow:\n",
    "re.compile(r'^\\d{1,3}('\\d{3}*$) will create this regex, but other regex strings can produce a similar regular expression."
   ]
  },
  {
   "cell_type": "markdown",
   "id": "ee17a6f4",
   "metadata": {},
   "source": [
    "How would you write a regex that matches the full name of someone whose last name is Watanabe? You can assume that the first name that comes before it will always be one word that begins with a capital letter. \n",
    "The regex must match the following: \n",
    "'Haruto Watanabe' \n",
    "'Alice Watanabe' \n",
    "'RoboCop Watanabe' \n",
    "but not the following: \n",
    "'haruto Watanabe' (where the first name is not capitalized) \n",
    "'Mr. Watanabe' (where the preceding word has a nonletter character) \n",
    "'Watanabe' (which has no first name) \n",
    "'Haruto watanabe' (where Watanabe is not capitalized)\n",
    "\n",
    "Ans : The regex will be \n",
    "re.compile(r'[A-Z][a-z]*\\sNakamoto')"
   ]
  },
  {
   "cell_type": "markdown",
   "id": "05764035",
   "metadata": {},
   "source": [
    "How would you write a regex that matches a sentence where the first word is either Alice, Bob, or Carol; the second word is either eats, pets, or throws; the third word is apples, cats, or baseballs; and the sentence ends with a period? This regex should be case-insensitive. It must match the following: \n",
    "'Alice eats apples.' \n",
    "'Bob pets cats.' \n",
    "'Carol throws baseballs.' \n",
    "'Alice throws Apples.' \n",
    "'BOB EATS CATS.' \n",
    "but not the following: \n",
    "'RoboCop eats apples.' \n",
    "'ALICE THROWS FOOTBALLS.' \n",
    "'Carol eats 7 cats.'\n",
    "\n",
    "Ans: \n",
    "re.compile (r'(Alice|Bob|Carol)\\s(eats|pets|throws)\\s(apples|cats|baseballs)\\.'re.IGNORECASE)"
   ]
  }
 ],
 "metadata": {
  "kernelspec": {
   "display_name": "Python 3 (ipykernel)",
   "language": "python",
   "name": "python3"
  },
  "language_info": {
   "codemirror_mode": {
    "name": "ipython",
    "version": 3
   },
   "file_extension": ".py",
   "mimetype": "text/x-python",
   "name": "python",
   "nbconvert_exporter": "python",
   "pygments_lexer": "ipython3",
   "version": "3.9.7"
  }
 },
 "nbformat": 4,
 "nbformat_minor": 5
}
