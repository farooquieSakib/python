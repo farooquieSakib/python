{
 "cells": [
  {
   "cell_type": "markdown",
   "id": "ebf729e8",
   "metadata": {},
   "source": [
    "# Assignment 2"
   ]
  },
  {
   "cell_type": "raw",
   "id": "cd6adff6",
   "metadata": {},
   "source": [
    "1.What are the two values of the Boolean data type? How do you write them?\n",
    "Answer: The two values of Boolean data type are True and False. True has a value of 1 and false has a value of 0. Boolean expression use rational and logical operators.\n",
    "\n",
    "ex: a=true and b= false\n",
    "ex2: x=5, y=10\n",
    "     print(x==y)\n",
    "Result: False\n"
   ]
  },
  {
   "cell_type": "raw",
   "id": "da17fcca",
   "metadata": {},
   "source": [
    "2. What are the three different types of Boolean operators?\n",
    "Answer: The three basic boolean operators are AND, OR and NOT. They are used for comparison purposes.\n"
   ]
  },
  {
   "cell_type": "markdown",
   "id": "ad38e869",
   "metadata": {},
   "source": [
    "3. Make a list of each Boolean operator's truth tables (i.e. every possible combination of Boolean values for the operator and what it evaluate ).\n",
    "Answer: The boolean truth tables are as follows:\n",
    "\n",
    "== Truth Table (sample will be in x and y = result)\n",
    "\n",
    "x     and      y      Result\n",
    "True   ==    True     True\n",
    "True   ==    False    False\n",
    "False  ==    True     False\n",
    "False  ==    False    True\n",
    "\n",
    "AND Truth Table (sample will be in x and y = result)\n",
    "\n",
    "x      and      y      Result\n",
    "True   and    True     True\n",
    "True   and    False    False\n",
    "False  and    True     False\n",
    "False  and    False    False\n",
    "\n",
    "OR Truth Table (sample will be in x and y = result)\n",
    "\n",
    "x     and      y      Result\n",
    "True   or    True     True\n",
    "True   or    False    True\n",
    "False  or    True     True\n",
    "False  or    False    False\n",
    "\n",
    "NOT Truth Table (sample will be in x and y = result)\n",
    "\n",
    "Not      x      Result\n",
    "not    True     False\n",
    "not    False    True\n",
    "\n",
    "\n"
   ]
  },
  {
   "cell_type": "markdown",
   "id": "9bc05a54",
   "metadata": {},
   "source": [
    "4. What are the values of the following expressions?\n",
    "Answer: Below are the answers\n",
    "(5 > 4) and (3 == 5) : False\n",
    "not (5 > 4): True\n",
    "(5 > 4) or (3 == 5)  : True\n",
    "not ((5 > 4) or (3 == 5)) : True\n",
    "(True and True) and (True == False) : False \n",
    "(not False) or (not True) : True\n"
   ]
  },
  {
   "cell_type": "markdown",
   "id": "584c8a03",
   "metadata": {},
   "source": [
    "5. What are the six comparison operators?\n",
    "Answer: The comparison operators compare the two values and return the result as boolean value i.e. True or False \n",
    "The six comparison operators are as follows\n",
    "1. Equal to(==)\n",
    "2. Not equal to (!=)\n",
    "3. Greater than (>)\n",
    "4. Greater than or equal to(>=)\n",
    "5. Less than (<)\n",
    "6. Less than or equal to(<=)"
   ]
  },
  {
   "cell_type": "markdown",
   "id": "7882d7e4",
   "metadata": {},
   "source": [
    "6. How do you tell the difference between the equal to and assignment operators?Describe a condition and when you would use one.\n",
    "Answer: The difference between an assignment operator and equal to is Equal to is use to assign a value to the right of the variable. Ex:  str = \"This is equal\" , a =5\n",
    "\n",
    "Assignment operator is use to check the conditon,if the the given operands are equal or not. If the are equal it returns as true and of not equal it will return as false.\n",
    "Ex: a = 10, b = 10\n",
    "a == b // It will return as true.\n",
    "\n"
   ]
  },
  {
   "cell_type": "raw",
   "id": "4f864b86",
   "metadata": {},
   "source": [
    "# 7. Identify the three blocks in this code:\n",
    "spam = 0\n",
    "if spam == 10:\n",
    "print('eggs')\n",
    "if spam &gt; 5:\n",
    "print('bacon')\n",
    "else:\n",
    "print('ham')\n",
    "print('spam')\n",
    "print('spam')\n",
    "Answer is the 3 block of codes in the above codes are as follows:\n",
    "First: \n",
    "if spam == 10:\n",
    "    print('eggs')\n",
    "Second:    \n",
    "if spam > 5:\n",
    "    print('bacon')\n",
    "Third:\n",
    "else:\n",
    "    print('ham')\n",
    "#if print('spam') and print('spam') are in the else block them they will also be in the block of code\n",
    "# If they are out of the else block then they are are not in the block."
   ]
  },
  {
   "cell_type": "markdown",
   "id": "226f30fc",
   "metadata": {},
   "source": [
    "8. Write code that prints Hello if 1 is stored in spam, prints Howdy if 2 is stored in spam, and prints Greetings! if anything else is stored in spam.\n",
    "\n",
    "Answer: Please see below code.\n",
    "\n",
    "spam = int (input())\n",
    "\n",
    "if spam == 1:\n",
    "    print (\"Hello\")\n",
    "elif spam == 2:\n",
    "    print (\"Howdy\")\n",
    "else:\n",
    "    print(\"Greetings!\")\n"
   ]
  },
  {
   "cell_type": "markdown",
   "id": "a6ac7191",
   "metadata": {},
   "source": [
    "9. If your programme is stuck in an endless loop, what keys you’ll press?\n",
    "Answer: If my program is stuck in the endless loop i will press Ctrl + C. \n",
    "Alternatively, i can interupt the kernel by pressing the stop button on the tab of the notebook or in the Kernel tab i can click Interrupt, The shortcut key to interupt the kernel is I,I"
   ]
  },
  {
   "cell_type": "markdown",
   "id": "24800c9a",
   "metadata": {},
   "source": [
    "10. How can you tell the difference between break and continue?\n",
    "Answer: The break statement is used to terminate the execution of the statements. It allows you to exit the loop when a condition is met.\n",
    "Ex: (break stmt)\n",
    "subject = [\"DSA\",\"CS\",\"Networking\",\"Hardware\"]\n",
    "\n",
    "for i in range (0,len(subject)):\n",
    "    if i == 2:\n",
    "        break\n",
    "    else:\n",
    "        print (subject[i])\n",
    "    print (\"The range is \" + str(i))\n",
    "\n",
    "The continue statement will continue to the next iteration of the loop. It allows you to skip over a part of a loop when a condition is met.\n",
    "Ex: (continue stmt)\n",
    "\n",
    "subject = [\"DSA\",\"CS\",\"Networking\",\"Hardware\"]\n",
    "\n",
    "for i in range (0,len(subject)):\n",
    "    if i == 2:\n",
    "        continue\n",
    "    else:\n",
    "        print (subject[i])\n",
    "    print (\"The range is \" + str(i))"
   ]
  },
  {
   "cell_type": "markdown",
   "id": "635487fd",
   "metadata": {},
   "source": [
    "11. In a for loop, what is the difference between range(10), range(0, 10), and range(0, 10, 1)?\n",
    "\n",
    "Answer: There will be no difference in the output. The range() function generates immuatable sequence of numbers.\n",
    "Lets look by the problem statement.\n",
    "1.) range(10) in for loop will generate immuatable sequence of numbers from 0-9. In this example, it will print the first 10 numbers starting from 0. Like below code:\n",
    "\n",
    "for i in range(10):\n",
    "    print (i)\n",
    "Output will be:\n",
    "0\n",
    "1\n",
    "2\n",
    "3\n",
    "4\n",
    "5\n",
    "6\n",
    "7\n",
    "8\n",
    "9\n",
    "\n",
    "2.) range (0,10) is the start and stop range. Here the start range will be from index 0 and stop range will be 10-1 i.e 9.\n",
    "Like below code: \n",
    "\n",
    "for i in range(0,10):\n",
    "    print (i)\n",
    "Output will be:\n",
    "0\n",
    "1\n",
    "2\n",
    "3\n",
    "4\n",
    "5\n",
    "6\n",
    "7\n",
    "8\n",
    "9\n",
    "\n",
    "3.) range(0, 10, 1)is the start and stop range and step over value. Here the start range will be from index 0 and stop range will be 10-1 i.e 9. and step size is 1 \n",
    "Like below code: \n",
    "\n",
    "for i in range(0,10,1):\n",
    "    print (i)\n",
    "Output will be:\n",
    "0\n",
    "1\n",
    "2\n",
    "3\n",
    "4\n",
    "5\n",
    "6\n",
    "7\n",
    "8\n",
    "9"
   ]
  },
  {
   "cell_type": "markdown",
   "id": "6b346452",
   "metadata": {},
   "source": [
    "12. Write a short program that prints the numbers 1 to 10 using a for loop. Then write an equivalent program that prints the numbers 1 to 10 using a while loop.\n",
    "\n",
    "Program with for loop:\n",
    "\n",
    "for i in range(1,11):\n",
    "    print(i)\n",
    "Program with While loop:\n",
    "\n",
    "count = 1\n",
    "\n",
    "while count<11:\n",
    "    print(count)\n",
    "    count = count +1"
   ]
  },
  {
   "cell_type": "markdown",
   "id": "ee8f91b4",
   "metadata": {},
   "source": [
    "13. If you had a function named bacon() inside a module named spam, how would you call it after importing spam?\n",
    "\n",
    "Answer: Once we have imported the spam module, we have access to all the functions in the spam module. To call the functions from spam module we use {modulename}.{functionname}\n",
    "In our example it will be:\n",
    "spam.bacon()\n"
   ]
  }
 ],
 "metadata": {
  "kernelspec": {
   "display_name": "Python 3 (ipykernel)",
   "language": "python",
   "name": "python3"
  },
  "language_info": {
   "codemirror_mode": {
    "name": "ipython",
    "version": 3
   },
   "file_extension": ".py",
   "mimetype": "text/x-python",
   "name": "python",
   "nbconvert_exporter": "python",
   "pygments_lexer": "ipython3",
   "version": "3.9.7"
  }
 },
 "nbformat": 4,
 "nbformat_minor": 5
}
