{
 "cells": [
  {
   "cell_type": "markdown",
   "id": "f0f94717",
   "metadata": {},
   "source": [
    "# Quiz 5\n",
    "1. What does an empty dictionary&#39;s code look like?\n",
    "2. What is the value of a dictionary value with the key &#39;foo&#39; and the value 42?\n",
    "3. What is the most significant distinction between a dictionary and a list?\n",
    "4. What happens if you try to access spam[&#39;foo&#39;] if spam is {&#39;bar&#39;: 100}?\n",
    "5. If a dictionary is stored in spam, what is the difference between the expressions &#39;cat&#39; in spam and\n",
    "&#39;cat&#39; in spam.keys()?\n",
    "6. If a dictionary is stored in spam, what is the difference between the expressions &#39;cat&#39; in spam and\n",
    "&#39;cat&#39; in spam.values()?\n",
    "7. What is a shortcut for the following code?\n",
    "if &#39;color&#39; not in spam:\n",
    "spam[&#39;color&#39;] = &#39;black&#39;\n",
    "\n",
    "8. How do you &quot;pretty print&quot; dictionary values using which module and function?"
   ]
  },
  {
   "cell_type": "markdown",
   "id": "920a339c",
   "metadata": {},
   "source": [
    "What does an empty dictionary's code look like?\n",
    "\n",
    "Ans: It looks like two curly bracket {}"
   ]
  },
  {
   "cell_type": "markdown",
   "id": "3afdcfe8",
   "metadata": {},
   "source": [
    "What is the value of a dictionary value with the key \"foo\" and the value 42?\n",
    "\n",
    "Ans: The value of dictionary is {\"foo\":42}"
   ]
  },
  {
   "cell_type": "markdown",
   "id": "f40ff334",
   "metadata": {},
   "source": [
    "What is the most significant distinction between a dictionary and a list?\n",
    "\n",
    "Ans: The most significant distinction between a dictionary and a list is the items that are stored in dictionary are unordered and the items stored in the list are ordered."
   ]
  },
  {
   "cell_type": "markdown",
   "id": "b909cfd1",
   "metadata": {},
   "source": [
    "What happens if you try to access spam['foo'] if spam is {'bar': 100}?\n",
    "\n",
    "Ans: It will will throw error as below:\n",
    "KeyError: 'foo'"
   ]
  },
  {
   "cell_type": "markdown",
   "id": "8845251f",
   "metadata": {},
   "source": [
    "If a dictionary is stored in spam, what is the difference between the expressions 'cat' in spam and 'cat' in spam.keys()?\n",
    "\n",
    "Ans: There is no difference as the operator checks if the value is present as the key in the dictionary."
   ]
  },
  {
   "cell_type": "markdown",
   "id": "806c4741",
   "metadata": {},
   "source": [
    "If a dictionary is stored in spam, what is the difference between the expressions 'cat' in spam and 'cat' in spam.values()?\n",
    "\n",
    "Ans: In the previous question 'cat' in spam checks whether there is a 'cat' key in the dictionary, In this question it checks 'cat' in spam.values() has a value 'cat' for one of the keys in spam."
   ]
  },
  {
   "cell_type": "markdown",
   "id": "ea2ef6af",
   "metadata": {},
   "source": [
    "What is a shortcut for the following code? if 'color' not in spam: spam['color'] = 'black'\n",
    "\n",
    "Ans: spam.setdefault(\"color\",\"black\")"
   ]
  },
  {
   "cell_type": "markdown",
   "id": "a166a31a",
   "metadata": {},
   "source": [
    "How do you \"pretty print\" dictionary values using which module and function?\n",
    "\n",
    "Ans: pprint.pprint()"
   ]
  }
 ],
 "metadata": {
  "kernelspec": {
   "display_name": "Python 3 (ipykernel)",
   "language": "python",
   "name": "python3"
  },
  "language_info": {
   "codemirror_mode": {
    "name": "ipython",
    "version": 3
   },
   "file_extension": ".py",
   "mimetype": "text/x-python",
   "name": "python",
   "nbconvert_exporter": "python",
   "pygments_lexer": "ipython3",
   "version": "3.9.7"
  }
 },
 "nbformat": 4,
 "nbformat_minor": 5
}
