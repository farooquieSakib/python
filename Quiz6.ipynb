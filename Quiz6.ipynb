{
 "cells": [
  {
   "cell_type": "markdown",
   "id": "859a74af",
   "metadata": {},
   "source": [
    "# Quiz 6\n",
    "1. What are escape characters, and how do you use them?\n",
    "2. What do the escape characters n and t stand for?\n",
    "3. What is the way to include backslash characters in a string?\n",
    "4. The string &quot;Howl&#39;s Moving Castle&quot; is a correct value. Why isn&#39;t the single quote character in the\n",
    "word Howl&#39;s not escaped a problem?\n",
    "5. How do you write a string of newlines if you don&#39;t want to use the n character?\n",
    "6. What are the values of the given expressions?\n",
    "&#39;Hello, world!&#39;[1]\n",
    "&#39;Hello, world!&#39;[0:5]\n",
    "&#39;Hello, world!&#39;[:5]\n",
    "&#39;Hello, world!&#39;[3:]\n",
    "\n",
    "7. What are the values of the following expressions?\n",
    "&#39;Hello&#39;.upper()\n",
    "&#39;Hello&#39;.upper().isupper()\n",
    "&#39;Hello&#39;.upper().lower()\n",
    "8. What are the values of the following expressions?\n",
    "&#39;Remember, remember, the fifth of July.&#39;.split()\n",
    "&#39;-&#39;.join(&#39;There can only one.&#39;.split())\n",
    "9. What are the methods for right-justifying, left-justifying, and centering a string?\n",
    "10. What is the best way to remove whitespace characters from the start or end?"
   ]
  },
  {
   "cell_type": "markdown",
   "id": "904d890f",
   "metadata": {},
   "source": [
    "What are escape characters, and how do you use them?\n",
    "\n",
    "Ans: Escape characters represent characters in string values that would otherwise be difficult or impossible to type into the code."
   ]
  },
  {
   "cell_type": "markdown",
   "id": "4503c303",
   "metadata": {},
   "source": [
    "What do the escape characters n and t stand for?\n",
    "\n",
    "Ans: \\n escape character means a new line and \\t escape character means a tab"
   ]
  },
  {
   "cell_type": "markdown",
   "id": "4d284ff5",
   "metadata": {},
   "source": [
    "What is the way to include backslash characters in a string?\n",
    "\n",
    "Ans: \\\\ is the way to include backslash characters in a string"
   ]
  },
  {
   "cell_type": "markdown",
   "id": "15878fc9",
   "metadata": {},
   "source": [
    "The string \"Howl's Moving Castle\" is a correct value. Why isn't the single quote character in the word Howl's not escaped a problem?\n",
    "\n",
    "Ans: The single quote character in Howl's is not escaped problem because the string uses double quote in the begining and end."
   ]
  },
  {
   "cell_type": "markdown",
   "id": "3049229e",
   "metadata": {},
   "source": [
    "How do you write a string of newlines if you don't want to use the n character?\n",
    "\n",
    "Ans: Multiline string will allow you to use newlines in strings without the \\n characters."
   ]
  },
  {
   "cell_type": "markdown",
   "id": "89107246",
   "metadata": {},
   "source": [
    "What are the values of the given expressions? 'Hello, world!'[1] 'Hello, world!'[0:5] 'Hello, world!'[:5] 'Hello, world!'[3:]\n",
    "\n",
    "Ans : The values of given expressions are as follow:\n",
    "'Hello, world!'[1]  = \"e\"\n",
    "'Hello, world!'[0:5] = \"Hello\"\n",
    "'Hello, world!'[:5] = \"Hello\"\n",
    "'Hello, world!'[3:] = \"lo, world!\"\n"
   ]
  },
  {
   "cell_type": "markdown",
   "id": "5b23f1a1",
   "metadata": {},
   "source": [
    "What are the values of the following expressions? \n",
    "'Hello'.upper() 'Hello'.upper().isupper() 'Hello'.upper().lower()\n",
    "\n",
    "Ans: The values of the following expressions are as follows:\n",
    "\n",
    "'Hello'.upper() will make the string in uppercase \"HELLO\"\n",
    "'Hello'.upper().isupper() will return the values as true if the string is in upper case.\n",
    "'Hello'.upper().lower() will return the string in lowercase \"hello\".\n"
   ]
  },
  {
   "cell_type": "markdown",
   "id": "4d214683",
   "metadata": {},
   "source": [
    "What are the values of the following expressions? \n",
    "'Remember, remember, the fifth of July.'.split() '-'.join('There can only one.'.split())\n",
    "\n",
    "Ans The above expressions evaluate to the following.\n",
    "1. ['Remember,', 'remember,', 'the', 'fifth', 'of', 'July.']\n",
    "2. 'There-can-only-one.'\n"
   ]
  },
  {
   "cell_type": "markdown",
   "id": "44ba66e4",
   "metadata": {},
   "source": [
    "What are the methods for right-justifying, left-justifying, and centering a string?\n",
    "\n",
    "Ans: The method to right-justifying, left-justifying, and centering a string are rjust(), ljust() and center(). "
   ]
  },
  {
   "cell_type": "markdown",
   "id": "0b8489a1",
   "metadata": {},
   "source": [
    "What is the best way to remove whitespace characters from the start or end?\n",
    "\n",
    "Ans: The best way to remove the whitespace characters from left end  and right end are lstrip() and rstrip()"
   ]
  },
  {
   "cell_type": "code",
   "execution_count": null,
   "id": "9c7f1a26",
   "metadata": {},
   "outputs": [],
   "source": []
  }
 ],
 "metadata": {
  "kernelspec": {
   "display_name": "Python 3 (ipykernel)",
   "language": "python",
   "name": "python3"
  },
  "language_info": {
   "codemirror_mode": {
    "name": "ipython",
    "version": 3
   },
   "file_extension": ".py",
   "mimetype": "text/x-python",
   "name": "python",
   "nbconvert_exporter": "python",
   "pygments_lexer": "ipython3",
   "version": "3.9.7"
  }
 },
 "nbformat": 4,
 "nbformat_minor": 5
}
