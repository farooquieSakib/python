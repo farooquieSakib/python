{
 "cells": [
  {
   "cell_type": "markdown",
   "id": "0c9810fb",
   "metadata": {},
   "source": [
    "# Assignment 3"
   ]
  },
  {
   "cell_type": "markdown",
   "id": "44be02d3",
   "metadata": {},
   "source": [
    "1. Why are functions advantageous to have in your programs?\n",
    "\n",
    "Ans: Function is a group of code. The code inside a function runs only when you have called a function. When you want to reuse a set of code in an another program functions are more useful as you dont have to rewrite the same code/logic again. It reduces the need for duplicate code. It makes the program more readable and easier to maintain.\n"
   ]
  },
  {
   "cell_type": "markdown",
   "id": "01e5772b",
   "metadata": {},
   "source": [
    "2. When does the code in a function run: when it's specified or when it's called?\n",
    "\n",
    "Ans: Function is a group of code. The code inside a function runs when a function is called."
   ]
  },
  {
   "cell_type": "markdown",
   "id": "5e55a083",
   "metadata": {},
   "source": [
    "3. What statement creates a function?\n",
    "\n",
    "Ans: The keyword def is used to define a functions.\n",
    "Ex: def my_function(value):\n",
    "        return value\n",
    "    # To call a funtion\n",
    "    my_function(\"sample\")\n",
    " Output: \"sample\"            "
   ]
  },
  {
   "cell_type": "markdown",
   "id": "959136c0",
   "metadata": {},
   "source": [
    "4. What is the difference between a function and a function call?\n",
    "\n",
    "Ans: A function is a procedure to achieve a particular result while a function call is using the function to achieve that task. \n",
    "Example of function:\n",
    "def my_function(value):\n",
    "    return value\n",
    "To call a function:\n",
    "\n",
    "my_function(\"sample\")"
   ]
  },
  {
   "cell_type": "markdown",
   "id": "0da262a1",
   "metadata": {},
   "source": [
    "5. How many global scopes are there in a Python program? How many local scopes?\n",
    "\n",
    "Ans: There is only one global scope in per program execution. The global scope remains in existence until the program terminates and the local scope is created whenever a function is called. There are 3 types of local scope when searched inside a function: Local(L), Global (G) and built-in(B). It stops at the first place where the name is found."
   ]
  },
  {
   "cell_type": "markdown",
   "id": "7cb5bf29",
   "metadata": {},
   "source": [
    "6. What happens to variables in a local scope when the function call returns?\n",
    "\n",
    "Ans: When a function returns, the local scope is destroyed and all the variables in it are forgotten."
   ]
  },
  {
   "cell_type": "markdown",
   "id": "fe0d4252",
   "metadata": {},
   "source": [
    "7. What is the concept of a return value? Is it possible to have a return value in an expression?\n",
    "\n",
    "Ans: A return is a value that a function returns to the call evaluates to when it completes its task. Like any value, a return value can be used as part of an expression. "
   ]
  },
  {
   "cell_type": "markdown",
   "id": "4a792e37",
   "metadata": {},
   "source": [
    "8. If a function does not have a return statement, what is the return value of a call to that function?\n",
    "\n",
    "Ans: If the function does not have a return statement, then it returns None value. \n"
   ]
  },
  {
   "cell_type": "markdown",
   "id": "0bb47e35",
   "metadata": {},
   "source": [
    "9. How do you make a function variable refer to the global variable?\n",
    "\n",
    "Ans: A global statement will force a variable in a function to refer to the global variable."
   ]
  },
  {
   "cell_type": "markdown",
   "id": "b80644a2",
   "metadata": {},
   "source": [
    "10. What is the data type of None?\n",
    "\n",
    "Ans: Data type of a None is a NoneType. "
   ]
  },
  {
   "cell_type": "markdown",
   "id": "f7d935ee",
   "metadata": {},
   "source": [
    "11. What does the sentence import areallyourpetsnamederic do?\n",
    "\n",
    "Ans: The import statement \"import areallyourpetsnamederic\" will import the module name areallyourpetsnamederic. \n"
   ]
  },
  {
   "cell_type": "markdown",
   "id": "09fbaff7",
   "metadata": {},
   "source": [
    "12. If you had a bacon() feature in a spam module, what would you call it after importing spam?\n",
    "\n",
    "Ans: This function can be called with spam.bacon()"
   ]
  },
  {
   "cell_type": "markdown",
   "id": "a229ccf4",
   "metadata": {},
   "source": [
    "13. What can you do to save a programme from crashing if it encounters an error?\n",
    "\n",
    "Ans: Make a use of try block. Simply place the code inside a try block. "
   ]
  },
  {
   "cell_type": "markdown",
   "id": "a08d4459",
   "metadata": {},
   "source": [
    "14. What is the purpose of the try clause? What is the purpose of the except clause?\n",
    "\n",
    "Ans: Try Clause: The block of code than can usually cause an error or crash can be placed in the try block to save the programme from crashing.\n",
    "Except Clause: The block of code that executes after the error has happened is placed in the except block"
   ]
  },
  {
   "cell_type": "code",
   "execution_count": null,
   "id": "c9d03122",
   "metadata": {},
   "outputs": [],
   "source": []
  }
 ],
 "metadata": {
  "kernelspec": {
   "display_name": "Python 3 (ipykernel)",
   "language": "python",
   "name": "python3"
  },
  "language_info": {
   "codemirror_mode": {
    "name": "ipython",
    "version": 3
   },
   "file_extension": ".py",
   "mimetype": "text/x-python",
   "name": "python",
   "nbconvert_exporter": "python",
   "pygments_lexer": "ipython3",
   "version": "3.9.7"
  }
 },
 "nbformat": 4,
 "nbformat_minor": 5
}
