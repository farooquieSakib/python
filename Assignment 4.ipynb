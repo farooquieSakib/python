{
 "cells": [
  {
   "cell_type": "markdown",
   "id": "cd6dd038",
   "metadata": {},
   "source": [
    "# Assignment 4"
   ]
  },
  {
   "cell_type": "markdown",
   "id": "15d38d8d",
   "metadata": {},
   "source": [
    "1. What exactly is []?\n",
    "\n",
    "Ans: This is an emptly value list which is a list value that contains no items in them. "
   ]
  },
  {
   "cell_type": "markdown",
   "id": "8d519e77",
   "metadata": {},
   "source": [
    "2. In a list of values stored in a variable called spam, how would you assign the value \"hello\" as the third value? (Assume [2, 4, 6, 8, 10] are in spam.)\n",
    "\n",
    "Ans: spam[2]=\"hello\" . This will assign the value hello on the 3rd value as the 1st value represent 0th index. "
   ]
  },
  {
   "cell_type": "markdown",
   "id": "69242f96",
   "metadata": {},
   "source": [
    "Let's pretend the spam includes the list ['a', 'b', 'c', 'd']. for the next three queries."
   ]
  },
  {
   "cell_type": "markdown",
   "id": "e9a5ce87",
   "metadata": {},
   "source": [
    "3. What is the value of spam[int(int(\"3\" * 2) / 11)]?\n",
    "\n",
    "Ans: The value of the above will be \"d\". \n",
    "Explanation: int(\"3\"*2) it will be 33. int(33/11) will be 3.\n",
    "The 3rd index of spam is \"d\" Expressions can be used wherever values are used. \n"
   ]
  },
  {
   "cell_type": "markdown",
   "id": "77386b9c",
   "metadata": {},
   "source": [
    "4. What is the value of spam[-1]?\n",
    "\n",
    "Ans: The value of the above will be \"d\". \n",
    "Explanation: Negative indexes count from the end."
   ]
  },
  {
   "cell_type": "markdown",
   "id": "51e4bea2",
   "metadata": {},
   "source": [
    "5. What is the value of spam[:2]?\n",
    "\n",
    "Ans: The value of the above will be [\"a\", \"b\"]. "
   ]
  },
  {
   "cell_type": "code",
   "execution_count": 14,
   "id": "672b4636",
   "metadata": {},
   "outputs": [],
   "source": [
    "bacon = [3.14, 'cat', 11, 'cat', True]"
   ]
  },
  {
   "cell_type": "markdown",
   "id": "6afa2a95",
   "metadata": {},
   "source": [
    "Let's pretend bacon has the list [3.14, 'cat', 11, 'cat', True] for the next three questions."
   ]
  },
  {
   "cell_type": "markdown",
   "id": "c114f974",
   "metadata": {},
   "source": [
    "6. What is the value of bacon.index(\"cat\")?\n",
    "\n",
    "Ans: It will be 1"
   ]
  },
  {
   "cell_type": "markdown",
   "id": "bd2effcb",
   "metadata": {},
   "source": [
    "7. How does bacon.append(99) change the look of the list value in bacon?\n",
    "\n",
    "Ans: After the append operation the list will look like below:\n",
    "[3.14, 'cat', 11, 'cat', True, 99]"
   ]
  },
  {
   "cell_type": "markdown",
   "id": "863d5f61",
   "metadata": {},
   "source": [
    "8. How does bacon.remove(\"cat\") change the look of the list in bacon?\n",
    "\n",
    "Ans: After the remove operation it will remove the duplicate values and the list will look like below:\n",
    "[3.14, 11, 'cat', True, 99]"
   ]
  },
  {
   "cell_type": "markdown",
   "id": "bd7489ef",
   "metadata": {},
   "source": [
    "9. What are the list concatenation and list replication operators?\n",
    "\n",
    "Ans: The operators for list concatenation is + and list replication operator is *. (same as string operations)"
   ]
  },
  {
   "cell_type": "markdown",
   "id": "642a3bdc",
   "metadata": {},
   "source": [
    "10. What is difference between the list methods append() and insert()?\n",
    "\n",
    "Ans: The list method append() will add the values only at the end of the list and insert() will add the values anywhere in the list.\n"
   ]
  },
  {
   "cell_type": "markdown",
   "id": "0a1d6155",
   "metadata": {},
   "source": [
    "11. What are the two methods for removing items from a list?\n",
    "\n",
    "Ans : The two methods for removing items from a list are del statement and remove() list method."
   ]
  },
  {
   "cell_type": "markdown",
   "id": "efa9fa8e",
   "metadata": {},
   "source": [
    "12. Describe how list values and string values are identical.\n",
    "\n",
    "Ans: Both the list value and string values are identical for following reasons.\n",
    "\n",
    "1) Both can be passed in the len() function. \n",
    "2) They both have indexes and we can perform slicing operations.\n",
    "3) We can use both values in a loop.\n",
    "4) Both the values can be concatinated and replicated. \n",
    "5) Both the values can be used in \"in\" and \"not\" in operators."
   ]
  },
  {
   "cell_type": "markdown",
   "id": "662fa7dc",
   "metadata": {},
   "source": [
    "13. What's the difference between tuples and lists?\n",
    "\n",
    "Ans : Lists are mutable and we can have values added, removed, or changed. Lists use the square brackets [ and ] for making the value a list.\n",
    "\n",
    "Tuples are immutable and we cannot changed the values at all. Tuples are written using parentheses ( and ) for making the value a tuple "
   ]
  },
  {
   "cell_type": "markdown",
   "id": "2ea35aa4",
   "metadata": {},
   "source": [
    "14. How do you type a tuple value that only contains the integer 42?\n",
    "\n",
    "Ans: t = (42,) This will make t as tuple. If we dont write comma after 42 then they type of t will be int "
   ]
  },
  {
   "cell_type": "markdown",
   "id": "c5f5374b",
   "metadata": {},
   "source": [
    "15. How do you get a list value's tuple form? How do you get a tuple value's list form?\n",
    "\n",
    "Ans: We can get the value of list by list() function and tuple by tuple() function."
   ]
  },
  {
   "cell_type": "markdown",
   "id": "a08ed69f",
   "metadata": {},
   "source": [
    "16. Variables that \"contain\" list values are not necessarily lists themselves. Instead, what do they contain?\n",
    "\n",
    "Ans: They contain references to list values."
   ]
  },
  {
   "cell_type": "markdown",
   "id": "501bfd1f",
   "metadata": {},
   "source": [
    "17. How do you distinguish between copy.copy() and copy.deepcopy()?\n",
    "\n",
    "And: The copy.copy() function will do a shallow copy of a list, while the copy.deepcopy() function will do a deep copy of a list. copy.deepcopy() will duplicate any lists inside the list."
   ]
  }
 ],
 "metadata": {
  "kernelspec": {
   "display_name": "Python 3 (ipykernel)",
   "language": "python",
   "name": "python3"
  },
  "language_info": {
   "codemirror_mode": {
    "name": "ipython",
    "version": 3
   },
   "file_extension": ".py",
   "mimetype": "text/x-python",
   "name": "python",
   "nbconvert_exporter": "python",
   "pygments_lexer": "ipython3",
   "version": "3.9.7"
  }
 },
 "nbformat": 4,
 "nbformat_minor": 5
}
