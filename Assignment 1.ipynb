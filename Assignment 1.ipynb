{
 "cells": [
  {
   "cell_type": "raw",
   "id": "9a25bd8a",
   "metadata": {},
   "source": [
    "1. In the below elements which of them are values or en expression? eg: Values can be integer or string and expressions will be mathematical operations:\n",
    "Answer:\n",
    "1. * is an expression\n",
    "2. 'hello' is a value\n",
    "3. -87.8 is an expression\n",
    "4. - is an expression\n",
    "5. / is an expression\n",
    "6. + is an expression\n",
    "7. 6 is a value"
   ]
  },
  {
   "cell_type": "raw",
   "id": "3793df4f",
   "metadata": {},
   "source": [
    "2. What is the difference between string and variable?\n",
    "Answer:\n",
    "string is the datatype.\n",
    "Variables are used to store the data. A vairable can have a datatype. \n"
   ]
  },
  {
   "cell_type": "raw",
   "id": "569cd1c3",
   "metadata": {},
   "source": [
    "3. Describe three different data types?\n",
    "Answer:\n",
    "String, Integer, Float, Boolean"
   ]
  },
  {
   "cell_type": "raw",
   "id": "3fbad0d9",
   "metadata": {},
   "source": [
    "4. What is an expression made of? What do all expression do?\n",
    "Answer: Expressions are made up of values, variables, operators and functions. All the expressions evaluate. \n",
    "    \n",
    "If we run a the expression ex: print, the python interpretor will evaluate the expression and display the result."
   ]
  },
  {
   "cell_type": "raw",
   "id": "c387b318",
   "metadata": {},
   "source": [
    "5. This assignment statement, like spam =10. What is the difference between an experssion and a statement?\n",
    "Answer: spam will be assigned a value of 10. \n",
    "The difference between an experssion and a statement is statement will not do anything. It will just consist of variables and functions.\n",
    "An expression is a statement as well, but it has to return something after execution."
   ]
  },
  {
   "cell_type": "raw",
   "id": "75b30cb4",
   "metadata": {},
   "source": [
    "6. After running the following code, what does the variable bacon contain?\n",
    "bacon = 22\n",
    "bacon + 1\n",
    "Answer: The value of the variable bacon in the first statement is assigned as 22. The expression bacon + 1, there is an addition operation performed and now the value of bacon will be 23. \n",
    "Ex: bacon = 22\n",
    "    bacon = bacon + 1"
   ]
  },
  {
   "cell_type": "raw",
   "id": "e3be296e",
   "metadata": {},
   "source": [
    "7. What should the values of the following two terms be?\n",
    "'spam' + 'spamspam'\n",
    "'spam' * 3\n",
    "Answer: The expression 'spam'+'spamspam' will do a concatenation operation on the string and the final values will be 'spamspamspam'\n",
    "The expression 'spam'*3 will also return the 'spamspamspam' as it will multiply the string 3 times."
   ]
  },
  {
   "cell_type": "raw",
   "id": "1df7fd01",
   "metadata": {},
   "source": [
    "8. Why is eggs a valid variable name while 100 is invalid?\n",
    "Answer: Because a variable cannot begin with a number. It will be syntactically incorrect.\n"
   ]
  },
  {
   "cell_type": "raw",
   "id": "10b8a7a8",
   "metadata": {},
   "source": [
    "9. What three functions can be used to get the integer, floating-point number, or string\n",
    "version of a value?\n",
    "Answer: The int(), float(), ans str() can be used to get the integer, floating-point number, or string\n",
    "version of a value"
   ]
  },
  {
   "cell_type": "markdown",
   "id": "322bf521",
   "metadata": {},
   "source": [
    "10. Why does this expression cause an error? How can you fix it?\n",
    "'I have eaten' + 99 +'burritos.'\n",
    "Answer: The above statement is incorrect because you cannot perform concatination between strings and integers. \n",
    "The correct statement will be 'I have eaten' + str(99) + 'burritos.' "
   ]
  }
 ],
 "metadata": {
  "kernelspec": {
   "display_name": "Python 3 (ipykernel)",
   "language": "python",
   "name": "python3"
  },
  "language_info": {
   "codemirror_mode": {
    "name": "ipython",
    "version": 3
   },
   "file_extension": ".py",
   "mimetype": "text/x-python",
   "name": "python",
   "nbconvert_exporter": "python",
   "pygments_lexer": "ipython3",
   "version": "3.9.7"
  }
 },
 "nbformat": 4,
 "nbformat_minor": 5
}
